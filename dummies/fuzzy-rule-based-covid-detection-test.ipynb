{
 "cells": [
  {
   "cell_type": "code",
   "execution_count": 171,
   "metadata": {},
   "outputs": [],
   "source": [
    "import numpy as np\n",
    "import pandas as pd\n",
    "import matplotlib.pyplot as plt\n",
    "from sklearn.model_selection import train_test_split\n",
    "from sklearn.experimental import enable_iterative_imputer\n",
    "from sklearn.impute import IterativeImputer\n",
    "from scipy.stats import kurtosis, skew, pearsonr, variation, iqr, somersd"
   ]
  },
  {
   "cell_type": "code",
   "execution_count": 172,
   "metadata": {},
   "outputs": [
    {
     "name": "stdout",
     "output_type": "stream",
     "text": [
      "Correlations with TARGET:\n",
      " SESSO        -0.249735\n",
      "AGE           0.056435\n",
      "WBC          -0.178520\n",
      "Piastrine    -0.092355\n",
      "Neutrofili   -0.100715\n",
      "Linfociti    -0.213555\n",
      "Monociti     -0.185434\n",
      "Eosinofili   -0.215767\n",
      "Basofili     -0.171577\n",
      "PCR           0.238826\n",
      "AST           0.410829\n",
      "ALT           0.224363\n",
      "ALP          -0.074779\n",
      "GGT           0.165086\n",
      "LDH           0.363080\n",
      "TARGET        1.000000\n",
      "dtype: float64\n"
     ]
    }
   ],
   "source": [
    "df = pd.read_excel('dataset.xlsx', nrows=279)\n",
    "df[\"SESSO\"].replace({'M': 0., 'F': 1.}, inplace=True)\n",
    "df[\"TARGET\"].replace({2.0: 1.}, inplace=True)\n",
    "for key in df.keys():\n",
    "    df[key] = pd.to_numeric(df[key].astype(str).str.replace(\",\", \"\"), errors='coerce')\n",
    "\n",
    "correlations = np.array(df.corrwith(df['TARGET'], method=\"kendall\"))[:-1]\n",
    "print(f\"Correlations with TARGET:\\n\", df.corrwith(df['TARGET'], method=\"kendall\"))\n",
    "beta = 0.2\n",
    "chosen_corrs = correlations > beta\n",
    "X = df.drop(columns='TARGET').to_numpy(dtype=np.float64)\n",
    "# X = df[['Eosinofili', 'AST', 'LDH', 'PCR', 'Monociti', 'Linfociti']].to_numpy(dtype=np.float64)\n",
    "# X = X[:, chosen_corrs]\n",
    "y = df['TARGET'].to_numpy(dtype=np.float64)"
   ]
  },
  {
   "cell_type": "code",
   "execution_count": 173,
   "metadata": {},
   "outputs": [],
   "source": [
    "imp = IterativeImputer(max_iter=300, random_state=0)\n",
    "imp.fit(X)\n",
    "X = np.round(imp.transform(X), 1)"
   ]
  },
  {
   "cell_type": "code",
   "execution_count": 174,
   "metadata": {},
   "outputs": [],
   "source": [
    "# from sklearn.preprocessing import normalize\n",
    "# X = np.round(normalize(X, axis=0, norm='max'), 2)"
   ]
  },
  {
   "cell_type": "code",
   "execution_count": 175,
   "metadata": {},
   "outputs": [],
   "source": [
    "X_train, X_test, y_train, y_test = train_test_split(X, y, stratify=y, random_state=104, test_size=0.2)"
   ]
  },
  {
   "cell_type": "code",
   "execution_count": 176,
   "metadata": {},
   "outputs": [],
   "source": [
    "class FuzzySet:\n",
    "    pass"
   ]
  },
  {
   "cell_type": "code",
   "execution_count": 177,
   "metadata": {},
   "outputs": [
    {
     "name": "stdout",
     "output_type": "stream",
     "text": [
      "0\n"
     ]
    },
    {
     "data": {
      "image/png": "[encoded data removed]",
      "text/plain": [
       "<Figure size 300x300 with 1 Axes>"
      ]
     },
     "metadata": {},
     "output_type": "display_data"
    }
   ],
   "source": [
    "class Triangle(FuzzySet):\n",
    "    def __init__(self, a, b, c):\n",
    "        self.a = a\n",
    "        self.b = b\n",
    "        self.c = c\n",
    "\n",
    "    def get_membership_value(self, x):\n",
    "        if(self.a <= x and x < self.b): y = ((x-self.a)/(self.b-self.a))\n",
    "        elif(self.b <= x and x <= self.c): y = ((self.c-x)/(self.c-self.b))\n",
    "        else: y = 0\n",
    "        return np.round(y, 2)\n",
    "\n",
    "    def plot(self, ret = False, fig_x = 3, fig_y = 3):\n",
    "        x = np.linspace(self.a, self.c, num=2000)\n",
    "        y = [self.get_membership_value(x_i) for x_i in x]\n",
    "\n",
    "        fig, ax = plt.subplots(figsize=(fig_x, fig_y), tight_layout=True)\n",
    "        ax.plot(x, y)\n",
    "        ax.tick_params(axis='both', which='major', labelsize=6)\n",
    "        ax.tick_params(axis='both', which='minor', labelsize=5)\n",
    "        # fig.suptitle('Triangle type-1 fuzzy number', fontsize=10)\n",
    "        if(not ret): plt.show()\n",
    "        else: return fig, ax\n",
    "\n",
    "    def plot_x(self, x):\n",
    "        fig, ax = self.plot(ret=True)\n",
    "        y = self.get_membership_value(x)\n",
    "        ax.plot(x, y, c=\"r\", marker=\"o\")\n",
    "        ax.plot((x, x), (0, y), color='r', linestyle='dashed', linewidth=1, alpha=0.5)\n",
    "        ax.plot((0, x), (y, y), color='r', linestyle='dashed', linewidth=1, alpha=0.5)\n",
    "        ax.set_title(r'$\\mu(x=$'+str(x)+r'$) = $'+str(y), fontsize=10)\n",
    "        plt.tight_layout()\n",
    "\n",
    "tri = Triangle(0, 0.5, 1)\n",
    "print(tri.get_membership_value(1.5))\n",
    "tri.plot_x(0.4)"
   ]
  },
  {
   "cell_type": "code",
   "execution_count": 196,
   "metadata": {},
   "outputs": [],
   "source": [
    "class LeftTrapezoid(FuzzySet):\n",
    "    def __init__(self, a, b, c):\n",
    "        self.a = a\n",
    "        self.b = b\n",
    "        self.c = c\n",
    "\n",
    "    def get_membership_value(self, x):\n",
    "        if(self.a <= x and x < self.b): y = 1\n",
    "        elif(self.b <= x and x <= self.c): y = ((self.c-x)/(self.c-self.b))\n",
    "        else: y = 0\n",
    "        return np.round(y, 2)\n",
    "    \n",
    "class RightTrapezoid(FuzzySet):\n",
    "    def __init__(self, a, b, c):\n",
    "        self.a = a\n",
    "        self.b = b\n",
    "        self.c = c\n",
    "\n",
    "    def get_membership_value(self, x):\n",
    "        if(self.a <= x and x < self.b): y = ((x-self.a)/(self.b-self.a))\n",
    "        elif(self.b <= x and x <= self.c): y = 1\n",
    "        else: y = 0\n",
    "        return np.round(y, 2)"
   ]
  },
  {
   "cell_type": "code",
   "execution_count": 193,
   "metadata": {},
   "outputs": [],
   "source": [
    "from string import ascii_uppercase as alc\n",
    "\n",
    "class FuzzySets:\n",
    "    sets = {}\n",
    "    def __init__(self):\n",
    "        self.sets = {}\n",
    "\n",
    "    def add(self, fs, name):\n",
    "        self.sets[name] = fs\n",
    "        \n",
    "    def plot(self, ret = False, fig_x = 3, fig_y = 3):\n",
    "        fig, ax = plt.subplots(figsize=(fig_x, fig_y), tight_layout=True)\n",
    "        for key, fs in self.sets.items():\n",
    "            x = np.linspace(fs.a, fs.c, num=2000)\n",
    "            y = [fs.get_membership_value(x_i) for x_i in x]\n",
    "            ax.plot(x, y, label=key)\n",
    "        ax.tick_params(axis='both', which='major', labelsize=6)\n",
    "        ax.tick_params(axis='both', which='minor', labelsize=5)\n",
    "        ax.legend()\n",
    "        # fig.suptitle('Triangle type-1 fuzzy number', fontsize=10)\n",
    "        if(not ret): plt.show()\n",
    "        else: return fig, ax\n",
    "\n",
    "    def plot_x(self, x):\n",
    "        fig, ax = self.plot(ret=True)\n",
    "        y = self.get_membership_value(x)\n",
    "        ax.plot(x, y, c=\"r\", marker=\"o\")\n",
    "        ax.plot((x, x), (0, y), color='r', linestyle='dashed', linewidth=1, alpha=0.5)\n",
    "        ax.plot((0, x), (y, y), color='r', linestyle='dashed', linewidth=1, alpha=0.5)\n",
    "        ax.set_title(r'$\\mu(x=$'+str(x)+r'$) = $'+str(y), fontsize=10)\n",
    "        plt.tight_layout()"
   ]
  },
  {
   "cell_type": "code",
   "execution_count": 201,
   "metadata": {},
   "outputs": [
    {
     "data": {
      "image/png": "[encoded data removed]",
      "text/plain": [
       "<Figure size 300x300 with 1 Axes>"
      ]
     },
     "metadata": {},
     "output_type": "display_data"
    }
   ],
   "source": [
    "WBC_max = max(X_train[:, 2])\n",
    "\n",
    "fs_1 = LeftTrapezoid(0, 2.5, 5)\n",
    "fs_2 = Triangle(4, 8, 11.5)\n",
    "fs_3 = RightTrapezoid(10.5, 12, 35)\n",
    "\n",
    "setss = FuzzySets()\n",
    "setss.add(fs_1, \"Low\")\n",
    "setss.add(fs_2, \"Normal\")\n",
    "setss.add(fs_3, \"High\")\n",
    "setss.plot()"
   ]
  },
  {
   "cell_type": "code",
   "execution_count": 199,
   "metadata": {},
   "outputs": [],
   "source": [
    "WBC_max = max(X_train[:, 2])\n",
    "WBC_min = min(X_train[:, 2])\n",
    "WBC_avg = np.mean(X_train[:, 2])\n",
    "\n",
    "# tri = Triangle(WBC_min, WBC_avg, WBC_max)\n",
    "# print(tri.get_membership_value(1.5))\n",
    "# tri.plot_x(X_test[2, 2])"
   ]
  },
  {
   "cell_type": "code",
   "execution_count": null,
   "metadata": {},
   "outputs": [],
   "source": []
  },
  {
   "cell_type": "code",
   "execution_count": null,
   "metadata": {},
   "outputs": [],
   "source": [
    "class Rule:\n",
    "    "
   ]
  },
  {
   "cell_type": "code",
   "execution_count": null,
   "metadata": {},
   "outputs": [],
   "source": [
    "class FuzzyController:\n",
    "    rules = []\n",
    "    \n",
    "    def __init__(self):\n",
    "        self.rules = []\n",
    "        "
   ]
  }
 ],
 "metadata": {
  "kernelspec": {
   "display_name": "base",
   "language": "python",
   "name": "python3"
  },
  "language_info": {
   "codemirror_mode": {
    "name": "ipython",
    "version": 3
   },
   "file_extension": ".py",
   "mimetype": "text/x-python",
   "name": "python",
   "nbconvert_exporter": "python",
   "pygments_lexer": "ipython3",
   "version": "3.9.15 (main, Nov 24 2022, 14:39:17) [MSC v.1916 64 bit (AMD64)]"
  },
  "orig_nbformat": 4,
  "vscode": {
   "interpreter": {
    "hash": "ffc2c986650f75bb84df5ef0f5794d173c138677d61245fd2c4ff2debf2f2371"
   }
  }
 },
 "nbformat": 4,
 "nbformat_minor": 2
}
