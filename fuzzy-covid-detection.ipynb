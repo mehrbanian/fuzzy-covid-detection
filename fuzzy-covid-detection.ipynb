{
 "cells": [
  {
   "cell_type": "code",
   "execution_count": 231,
   "metadata": {},
   "outputs": [],
   "source": [
    "import numpy as np\n",
    "import pandas as pd\n",
    "from sklearn.model_selection import train_test_split\n",
    "from sklearn.experimental import enable_iterative_imputer\n",
    "from sklearn.impute import IterativeImputer"
   ]
  },
  {
   "cell_type": "code",
   "execution_count": 232,
   "metadata": {},
   "outputs": [],
   "source": [
    "df = pd.read_excel('dataset.xlsx', nrows=279)\n",
    "df[\"SESSO\"].replace({'M': 0., 'F': 1.}, inplace=True)\n",
    "for key in df.keys():\n",
    "    df[key] = pd.to_numeric(df[key].astype(str).str.replace(\",\", \"\"), errors='coerce')\n",
    "X = df.drop(columns='TARGET').to_numpy(dtype=np.float64)\n",
    "y = df['TARGET'].to_numpy(dtype=np.float64)"
   ]
  },
  {
   "cell_type": "markdown",
   "metadata": {},
   "source": [
    "<h3>Data pre-processing</h3>\n",
    "<h4>Missing values</h4>\n",
    "<p>\n",
    "To address data incompleteness, we performed missing data imputation by means of the Multivariate Imputation by Chained Equation (MICE)\n",
    "</p>"
   ]
  },
  {
   "cell_type": "code",
   "execution_count": 233,
   "metadata": {},
   "outputs": [],
   "source": [
    "imp = IterativeImputer(max_iter=300, random_state=0)\n",
    "imp.fit(X)\n",
    "X = np.round(imp.transform(X), 1)"
   ]
  },
  {
   "cell_type": "markdown",
   "metadata": {},
   "source": [
    "<h4>Data normalization</h4>\n",
    "<p>\n",
    "We used Min-max scaler. Min-max normalization preserves the relationships among the original data values. The cost of having this bounded range is that we will end up with smaller standard deviations, which can suppress the effect of outliers.\n",
    "</p>"
   ]
  },
  {
   "cell_type": "code",
   "execution_count": 234,
   "metadata": {},
   "outputs": [
    {
     "name": "stdout",
     "output_type": "stream",
     "text": [
      "[[  0.   56.    2.9 ...  43.   21.  257. ]\n",
      " [  0.   56.    3.5 ...  50.   17.  207. ]\n",
      " [  0.   72.    4.6 ...  61.1  31.5 404.8]\n",
      " ...\n",
      " [  1.   44.   15.7 ... 111.   76.2 272. ]\n",
      " [  1.   41.   12.  ... 201.   14.  266. ]\n",
      " [  0.   53.   17.9 ...  75.2  13.9 258. ]]\n"
     ]
    }
   ],
   "source": [
    "# from sklearn.preprocessing import normalize\n",
    "from sklearn.preprocessing import MinMaxScaler\n",
    "\n",
    "# X = np.round(normalize(X, axis=0, norm='max'), 2)\n",
    "scaler = MinMaxScaler()\n",
    "scaler.fit(X)\n",
    "X = np.round(scaler.transform(X), 2)\n"
   ]
  },
  {
   "cell_type": "code",
   "execution_count": 235,
   "metadata": {},
   "outputs": [],
   "source": [
    "X_train, X_test, y_train, y_test = train_test_split(X, y, stratify=y, test_size=0.15)"
   ]
  },
  {
   "cell_type": "code",
   "execution_count": 236,
   "metadata": {},
   "outputs": [],
   "source": [
    "def max_min(x1, x2):\n",
    "    both_sample = np.vstack((x1, x2))\n",
    "    return np.max(np.min(both_sample, axis=0))\n",
    "\n",
    "\n",
    "def union(R1, R2):\n",
    "    both_relation = np.dstack((R1, R2))\n",
    "    return np.max(both_relation, axis=2)\n",
    "\n",
    "def maxmin_composition(R1, R2):\n",
    "    result = np.zeros([len(R1), len(R2)])\n",
    "    for i, Ri in enumerate(R1):\n",
    "        for j, Rj in enumerate(R2):\n",
    "            result[i][j] = max_min(Ri, Rj)\n",
    "    return np.array(result)"
   ]
  },
  {
   "cell_type": "code",
   "execution_count": null,
   "metadata": {},
   "outputs": [],
   "source": []
  }
 ],
 "metadata": {
  "kernelspec": {
   "display_name": "Python 3.9.12 ('base')",
   "language": "python",
   "name": "python3"
  },
  "language_info": {
   "codemirror_mode": {
    "name": "ipython",
    "version": 3
   },
   "file_extension": ".py",
   "mimetype": "text/x-python",
   "name": "python",
   "nbconvert_exporter": "python",
   "pygments_lexer": "ipython3",
   "version": "3.9.12"
  },
  "orig_nbformat": 4,
  "vscode": {
   "interpreter": {
    "hash": "ffc2c986650f75bb84df5ef0f5794d173c138677d61245fd2c4ff2debf2f2371"
   }
  }
 },
 "nbformat": 4,
 "nbformat_minor": 2
}
