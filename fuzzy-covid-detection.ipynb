{
 "cells": [
  {
   "cell_type": "code",
   "execution_count": 37,
   "metadata": {},
   "outputs": [],
   "source": [
    "import numpy as np\n",
    "import pandas as pd\n",
    "from sklearn.model_selection import train_test_split\n",
    "from sklearn.experimental import enable_iterative_imputer\n",
    "from sklearn.impute import IterativeImputer\n",
    "from scipy.stats import kurtosis, skew, pearsonr, variation, iqr, somersd"
   ]
  },
  {
   "cell_type": "code",
   "execution_count": 38,
   "metadata": {},
   "outputs": [
    {
     "name": "stdout",
     "output_type": "stream",
     "text": [
      "Correlations with TARGET:  SESSO        -0.249735\n",
      "AGE           0.056435\n",
      "WBC          -0.178520\n",
      "Piastrine    -0.092355\n",
      "Neutrofili   -0.100715\n",
      "Linfociti    -0.213555\n",
      "Monociti     -0.185434\n",
      "Eosinofili   -0.215767\n",
      "Basofili     -0.171577\n",
      "PCR           0.238826\n",
      "AST           0.410829\n",
      "ALT           0.224363\n",
      "ALP          -0.074779\n",
      "GGT           0.165086\n",
      "LDH           0.363080\n",
      "TARGET        1.000000\n",
      "dtype: float64\n"
     ]
    }
   ],
   "source": [
    "df = pd.read_excel('dataset.xlsx', nrows=279)\n",
    "df[\"SESSO\"].replace({'M': 0., 'F': 1.}, inplace=True)\n",
    "df[\"TARGET\"].replace({2.0: 1.}, inplace=True)\n",
    "for key in df.keys():\n",
    "    df[key] = pd.to_numeric(df[key].astype(str).str.replace(\",\", \"\"), errors='coerce')\n",
    "\n",
    "correlations = np.array(df.corrwith(df['TARGET'], method=\"kendall\"))[:-1]\n",
    "print(f\"Correlations with TARGET: \\n\", df.corrwith(df['TARGET'], method=\"kendall\"))\n",
    "beta = 0.2\n",
    "chosen_corrs = correlations > beta\n",
    "X = df.drop(columns='TARGET').to_numpy(dtype=np.float64)\n",
    "# X = df[['Eosinofili', 'AST', 'LDH', 'PCR', 'Monociti', 'Linfociti']].to_numpy(dtype=np.float64)\n",
    "X = X[:, chosen_corrs]\n",
    "y = df['TARGET'].to_numpy(dtype=np.float64)"
   ]
  },
  {
   "cell_type": "markdown",
   "metadata": {},
   "source": [
    "<h3>Data pre-processing</h3>\n",
    "<h4>Missing values</h4>\n",
    "<p>\n",
    "To address data incompleteness, we performed missing data imputation by means of the Multivariate Imputation by Chained Equation (MICE)\n",
    "</p>"
   ]
  },
  {
   "cell_type": "code",
   "execution_count": 39,
   "metadata": {},
   "outputs": [],
   "source": [
    "imp = IterativeImputer(max_iter=300, random_state=0)\n",
    "imp.fit(X)\n",
    "X = np.round(imp.transform(X), 1)"
   ]
  },
  {
   "attachments": {},
   "cell_type": "markdown",
   "metadata": {},
   "source": [
    "<h4>Data normalization</h4>\n",
    "<h5>Min-max scaler</h5>\n",
    "<p>\n",
    "We used Min-max scaler in 1st attempt of writing this code. Min-max normalization preserves the relationships among the original data values. The cost of having this bounded range is that we will end up with smaller standard deviations, which can suppress the effect of outliers.\n",
    "</p>\n",
    "\n",
    "<h5>Scale unit norm</h5>\n",
    "<p>\n",
    "In this method we scale input vectors individually to unit norm (vector length). Three types of norms can be used using nomalize function of sklearn library: {‘l1’, ‘l2’, ‘max’}.\n",
    "</p>"
   ]
  },
  {
   "cell_type": "code",
   "execution_count": 40,
   "metadata": {},
   "outputs": [],
   "source": [
    "# from sklearn.preprocessing import MinMaxScaler\n",
    "# scaler = MinMaxScaler()\n",
    "# scaler.fit(X)\n",
    "# X = np.round(scaler.transform(X), 2)\n",
    "\n",
    "from sklearn.preprocessing import normalize\n",
    "X = np.round(normalize(X, axis=0, norm='max'), 2)"
   ]
  },
  {
   "cell_type": "code",
   "execution_count": 41,
   "metadata": {},
   "outputs": [],
   "source": [
    "X_train, X_test, y_train, y_test = train_test_split(X, y, stratify=y, random_state=104, test_size=0.2)"
   ]
  },
  {
   "cell_type": "code",
   "execution_count": 42,
   "metadata": {},
   "outputs": [
    {
     "name": "stdout",
     "output_type": "stream",
     "text": [
      "Relation:\n",
      " [[0.065 0.16 ]\n",
      " [0.05  0.08 ]\n",
      " [0.08  0.12 ]\n",
      " [0.23  0.3  ]]\n"
     ]
    }
   ],
   "source": [
    "classes = np.unique(y)\n",
    "relation = []\n",
    "for cls in classes:\n",
    "    relation.append(np.median(X_train[y_train == cls], axis=0))\n",
    "relation = np.asarray(relation).T\n",
    "\n",
    "# relation = np.zeros((X_train.shape[1], len(classes)), np.float64)\n",
    "# for i in range(X_train.shape[1]):\n",
    "#     for cls in range(len(classes)):\n",
    "#         relation[i, cls] = pearsonr(X_train[y_train == cls][:, i], X_train[y_train == cls][:, 5])[0]\n",
    "\n",
    "# relation = relation.clip(min=0)\n",
    "# scaler = MinMaxScaler()\n",
    "# scaler.fit(relation)\n",
    "# relation = np.round(scaler.transform(relation), 2)\n",
    "\n",
    "print(f\"Relation:\\n\", relation)"
   ]
  },
  {
   "cell_type": "code",
   "execution_count": 43,
   "metadata": {},
   "outputs": [
    {
     "name": "stdout",
     "output_type": "stream",
     "text": [
      "[[0.23 0.3 ]\n",
      " [0.23 0.29]\n",
      " [0.23 0.26]\n",
      " [0.23 0.25]\n",
      " [0.17 0.17]\n",
      " [0.23 0.3 ]\n",
      " [0.23 0.3 ]\n",
      " [0.23 0.23]\n",
      " [0.23 0.3 ]\n",
      " [0.23 0.24]\n",
      " [0.23 0.3 ]\n",
      " [0.13 0.13]\n",
      " [0.23 0.3 ]\n",
      " [0.16 0.16]\n",
      " [0.15 0.15]\n",
      " [0.23 0.3 ]\n",
      " [0.23 0.3 ]\n",
      " [0.23 0.3 ]\n",
      " [0.23 0.29]\n",
      " [0.23 0.3 ]\n",
      " [0.22 0.22]\n",
      " [0.16 0.16]\n",
      " [0.2  0.2 ]\n",
      " [0.23 0.3 ]\n",
      " [0.21 0.21]\n",
      " [0.23 0.3 ]\n",
      " [0.23 0.28]\n",
      " [0.23 0.27]\n",
      " [0.22 0.22]\n",
      " [0.17 0.17]\n",
      " [0.23 0.3 ]\n",
      " [0.23 0.3 ]\n",
      " [0.23 0.3 ]\n",
      " [0.19 0.19]\n",
      " [0.23 0.3 ]\n",
      " [0.23 0.23]\n",
      " [0.23 0.3 ]\n",
      " [0.23 0.3 ]\n",
      " [0.23 0.3 ]\n",
      " [0.17 0.17]\n",
      " [0.23 0.25]\n",
      " [0.23 0.23]\n",
      " [0.12 0.12]\n",
      " [0.23 0.3 ]\n",
      " [0.23 0.3 ]\n",
      " [0.23 0.3 ]\n",
      " [0.23 0.3 ]\n",
      " [0.23 0.25]\n",
      " [0.23 0.3 ]\n",
      " [0.23 0.3 ]\n",
      " [0.19 0.19]\n",
      " [0.23 0.28]\n",
      " [0.23 0.3 ]\n",
      " [0.23 0.27]\n",
      " [0.23 0.3 ]\n",
      " [0.23 0.3 ]]\n"
     ]
    }
   ],
   "source": [
    "def maxmin_composition(Q, R):\n",
    "    if Q.ndim < 2:\n",
    "        Q = np.atleast_2d(Q)\n",
    "    if R.ndim < 2:\n",
    "        r = np.atleast_2d(R).T\n",
    "\n",
    "    m = Q.shape[0]\n",
    "    n = R.shape[1]\n",
    "    T = np.zeros((m, n))\n",
    "    for i in range(n):\n",
    "        for j in range(m):\n",
    "            T[j, i] = (np.fmin(Q[j, :], R[:, i].T)).max()\n",
    "\n",
    "    return T\n",
    "\n",
    "results_relation = maxmin_composition(X_test, relation)\n",
    "print(results_relation)"
   ]
  },
  {
   "cell_type": "code",
   "execution_count": 44,
   "metadata": {},
   "outputs": [],
   "source": [
    "def predict(X):\n",
    "    return np.argmax(X, axis=1)"
   ]
  },
  {
   "cell_type": "code",
   "execution_count": 45,
   "metadata": {},
   "outputs": [
    {
     "data": {
      "image/png": "[encoded data removed]",
      "text/plain": [
       "<Figure size 432x288 with 2 Axes>"
      ]
     },
     "metadata": {},
     "output_type": "display_data"
    },
    {
     "name": "stdout",
     "output_type": "stream",
     "text": [
      "              precision    recall  f1-score   support\n",
      "\n",
      "     class 0       0.76      0.65      0.70        20\n",
      "     class 1       0.82      0.89      0.85        36\n",
      "\n",
      "    accuracy                           0.80        56\n",
      "   macro avg       0.79      0.77      0.78        56\n",
      "weighted avg       0.80      0.80      0.80        56\n",
      "\n"
     ]
    }
   ],
   "source": [
    "from sklearn.metrics import confusion_matrix\n",
    "import seaborn as sns\n",
    "import matplotlib.pyplot as plt\n",
    "from sklearn.metrics import classification_report\n",
    "from sklearn.metrics import accuracy_score\n",
    "\n",
    "y_pred = predict(results_relation)\n",
    "df_cm = pd.DataFrame(confusion_matrix(y_test, y_pred), range(len(classes)), range(len(classes)))\n",
    "plt.figure(figsize = (6, 4))\n",
    "sns.set(font_scale=1.5) # for label size\n",
    "sns.heatmap(df_cm, annot=True, fmt='d', cmap=sns.color_palette(\"ch:s=-.2,r=.6\", as_cmap=True))\n",
    "plt.title('Confusion matrix (Percentage)', fontsize = 15)\n",
    "plt.xlabel('Predicted', fontsize = 12)\n",
    "plt.ylabel('Actual/True', fontsize = 12) \n",
    "plt.tight_layout()\n",
    "plt.show()\n",
    "\n",
    "target_names = [f'class {i}' for i in range(len(classes))]\n",
    "print(classification_report(y_test, y_pred, target_names=target_names))"
   ]
  }
 ],
 "metadata": {
  "kernelspec": {
   "display_name": "Python 3.9.12 ('base')",
   "language": "python",
   "name": "python3"
  },
  "language_info": {
   "codemirror_mode": {
    "name": "ipython",
    "version": 3
   },
   "file_extension": ".py",
   "mimetype": "text/x-python",
   "name": "python",
   "nbconvert_exporter": "python",
   "pygments_lexer": "ipython3",
   "version": "3.9.12"
  },
  "orig_nbformat": 4,
  "vscode": {
   "interpreter": {
    "hash": "ffc2c986650f75bb84df5ef0f5794d173c138677d61245fd2c4ff2debf2f2371"
   }
  }
 },
 "nbformat": 4,
 "nbformat_minor": 2
}
