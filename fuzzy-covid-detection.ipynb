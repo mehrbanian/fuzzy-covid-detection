{
 "cells": [
  {
   "cell_type": "code",
   "execution_count": 2760,
   "metadata": {},
   "outputs": [],
   "source": [
    "import numpy as np\n",
    "import pandas as pd\n",
    "from sklearn.model_selection import train_test_split\n",
    "from sklearn.experimental import enable_iterative_imputer\n",
    "from sklearn.impute import IterativeImputer\n",
    "from scipy.stats import kurtosis, skew, pearsonr, variation, iqr, somersd\n"
   ]
  },
  {
   "cell_type": "code",
   "execution_count": 2761,
   "metadata": {},
   "outputs": [
    {
     "name": "stdout",
     "output_type": "stream",
     "text": [
      "SESSO        -0.249735\n",
      "AGE           0.056435\n",
      "WBC          -0.178520\n",
      "Piastrine    -0.092355\n",
      "Neutrofili   -0.100715\n",
      "Linfociti    -0.213555\n",
      "Monociti     -0.185434\n",
      "Eosinofili   -0.215767\n",
      "Basofili     -0.171577\n",
      "PCR           0.238826\n",
      "AST           0.410829\n",
      "ALT           0.224363\n",
      "ALP          -0.074779\n",
      "GGT           0.165086\n",
      "LDH           0.363080\n",
      "TARGET        1.000000\n",
      "dtype: float64\n"
     ]
    }
   ],
   "source": [
    "df = pd.read_excel('dataset.xlsx', nrows=279)\n",
    "df[\"SESSO\"].replace({'M': 0., 'F': 1.}, inplace=True)\n",
    "df[\"TARGET\"].replace({2.0: 1.}, inplace=True)\n",
    "for key in df.keys():\n",
    "    df[key] = pd.to_numeric(df[key].astype(str).str.replace(\",\", \"\"), errors='coerce')\n",
    "\n",
    "correlations = np.array(df.corrwith(df['TARGET'], method=\"kendall\"))[:-1]\n",
    "print(df.corrwith(df['TARGET'], method=\"kendall\"))\n",
    "chosen_corrs = abs(correlations) > 0.2\n",
    "X = df.drop(columns='TARGET').to_numpy(dtype=np.float64)\n",
    "# X = df[['Eosinofili', 'AST', 'LDH', 'PCR', 'Monociti', 'Linfociti']].to_numpy(dtype=np.float64)\n",
    "X = X[:, chosen_corrs]\n",
    "y = df['TARGET'].to_numpy(dtype=np.float64)"
   ]
  },
  {
   "cell_type": "markdown",
   "metadata": {},
   "source": [
    "<h3>Data pre-processing</h3>\n",
    "<h4>Missing values</h4>\n",
    "<p>\n",
    "To address data incompleteness, we performed missing data imputation by means of the Multivariate Imputation by Chained Equation (MICE)\n",
    "</p>"
   ]
  },
  {
   "cell_type": "code",
   "execution_count": 2762,
   "metadata": {},
   "outputs": [],
   "source": [
    "imp = IterativeImputer(max_iter=300, random_state=0)\n",
    "imp.fit(X)\n",
    "X = np.round(imp.transform(X), 1)"
   ]
  },
  {
   "cell_type": "markdown",
   "metadata": {},
   "source": [
    "<h4>Data normalization</h4>\n",
    "<p>\n",
    "We used Min-max scaler. Min-max normalization preserves the relationships among the original data values. The cost of having this bounded range is that we will end up with smaller standard deviations, which can suppress the effect of outliers.\n",
    "</p>"
   ]
  },
  {
   "cell_type": "code",
   "execution_count": 2763,
   "metadata": {},
   "outputs": [],
   "source": [
    "# from sklearn.preprocessing import normalize\n",
    "from sklearn.preprocessing import MinMaxScaler\n",
    "\n",
    "# X = np.round(normalize(X, axis=0, norm='max'), 2)\n",
    "scaler = MinMaxScaler()\n",
    "scaler.fit(X)\n",
    "X = np.round(scaler.transform(X), 2)"
   ]
  },
  {
   "cell_type": "code",
   "execution_count": 2764,
   "metadata": {},
   "outputs": [],
   "source": [
    "X_train, X_test, y_train, y_test = train_test_split(X, y, stratify=y, test_size=0.2)"
   ]
  },
  {
   "cell_type": "code",
   "execution_count": 2765,
   "metadata": {},
   "outputs": [
    {
     "name": "stdout",
     "output_type": "stream",
     "text": [
      "[[0.46341463 0.21985816]\n",
      " [0.17378049 0.12092199]\n",
      " [0.07341463 0.02914894]\n",
      " [0.15097561 0.22744681]\n",
      " [0.05134146 0.09078014]\n",
      " [0.07902439 0.13680851]\n",
      " [0.19085366 0.28191489]]\n"
     ]
    }
   ],
   "source": [
    "classes = np.unique(y)\n",
    "R_c = []\n",
    "for cls in classes:\n",
    "    R_c.append(np.mean(X_train[y_train == cls], axis=0))\n",
    "R_c = np.asarray(R_c).T\n",
    "print(R_c)\n",
    "# R_c = np.zeros((X_train.shape[1], len(classes)), np.float64)\n",
    "# for i in range(X_train.shape[1]):\n",
    "#     for cls in range(len(classes)):\n",
    "#         R_c[i, cls] = somersd(X_train[y_train == cls][:, i], X_train[y_train == cls][:, 5]).statistic\n",
    "#         # R_c[i, cls] = pearsonr(X_train[y_train == cls][:, i], X_train[y_train == cls][:, 5])[1]\n"
   ]
  },
  {
   "cell_type": "code",
   "execution_count": 2766,
   "metadata": {},
   "outputs": [
    {
     "name": "stdout",
     "output_type": "stream",
     "text": [
      "[[0.46341463 0.21985816]\n",
      " [0.17       0.17      ]\n",
      " [0.17       0.12092199]\n",
      " [0.46341463 0.21985816]\n",
      " [0.46341463 0.28191489]\n",
      " [0.17       0.17      ]\n",
      " [0.19085366 0.23      ]\n",
      " [0.46341463 0.28191489]\n",
      " [0.17       0.13      ]\n",
      " [0.19085366 0.28191489]\n",
      " [0.17       0.12092199]\n",
      " [0.18       0.18      ]\n",
      " [0.46341463 0.21985816]\n",
      " [0.46341463 0.22      ]\n",
      " [0.46341463 0.22      ]\n",
      " [0.46341463 0.28191489]\n",
      " [0.18       0.18      ]\n",
      " [0.19085366 0.23      ]\n",
      " [0.18       0.18      ]\n",
      " [0.19085366 0.28      ]\n",
      " [0.19085366 0.23      ]\n",
      " [0.19085366 0.22      ]\n",
      " [0.46341463 0.21985816]\n",
      " [0.18       0.18      ]\n",
      " [0.19085366 0.28191489]\n",
      " [0.46341463 0.21985816]\n",
      " [0.19085366 0.28      ]\n",
      " [0.46341463 0.21985816]\n",
      " [0.16       0.13      ]\n",
      " [0.19085366 0.28191489]\n",
      " [0.46341463 0.23      ]\n",
      " [0.46341463 0.28191489]\n",
      " [0.19085366 0.28191489]\n",
      " [0.46341463 0.24      ]\n",
      " [0.17       0.15      ]\n",
      " [0.13       0.12092199]\n",
      " [0.46341463 0.21985816]\n",
      " [0.46341463 0.21985816]\n",
      " [0.1        0.1       ]\n",
      " [0.19085366 0.28191489]\n",
      " [0.19085366 0.28191489]\n",
      " [0.46341463 0.28      ]\n",
      " [0.19085366 0.28191489]\n",
      " [0.19085366 0.28191489]\n",
      " [0.46341463 0.25      ]\n",
      " [0.14       0.14      ]\n",
      " [0.46341463 0.21985816]\n",
      " [0.17378049 0.17      ]\n",
      " [0.46341463 0.21985816]\n",
      " [0.46341463 0.24      ]\n",
      " [0.18       0.18      ]\n",
      " [0.19085366 0.28191489]\n",
      " [0.19085366 0.23      ]\n",
      " [0.19085366 0.28191489]\n",
      " [0.46341463 0.21985816]\n",
      " [0.19085366 0.27      ]]\n"
     ]
    }
   ],
   "source": [
    "def maxmin_composition(s, r):\n",
    "    if s.ndim < 2:\n",
    "        s = np.atleast_2d(s)\n",
    "    if r.ndim < 2:\n",
    "        r = np.atleast_2d(r).T\n",
    "    m = s.shape[0]\n",
    "    p = r.shape[1]\n",
    "    t = np.zeros((m, p))\n",
    "\n",
    "    for pp in range(p):\n",
    "        for mm in range(m):\n",
    "            t[mm, pp] = (np.fmin(s[mm, :], r[:, pp].T)).max()\n",
    "\n",
    "    return t\n",
    "\n",
    "R_1 = maxmin_composition(X_test, R_c)\n",
    "print(R_1)"
   ]
  },
  {
   "cell_type": "code",
   "execution_count": 2767,
   "metadata": {},
   "outputs": [],
   "source": [
    "def predict(X):\n",
    "    return np.argmax(X, axis=1)"
   ]
  },
  {
   "cell_type": "code",
   "execution_count": 2768,
   "metadata": {},
   "outputs": [
    {
     "name": "stdout",
     "output_type": "stream",
     "text": [
      "[0 0 0 0 0 0 1 0 0 1 0 0 0 0 0 0 0 1 0 1 1 1 0 0 1 0 1 0 0 1 0 0 1 0 0 0 0\n",
      " 0 0 1 1 0 1 1 0 0 0 0 0 0 0 1 1 1 0 1]\n"
     ]
    },
    {
     "data": {
      "image/png": "[encoded data removed]",
      "text/plain": [
       "<Figure size 432x288 with 2 Axes>"
      ]
     },
     "metadata": {},
     "output_type": "display_data"
    },
    {
     "name": "stdout",
     "output_type": "stream",
     "text": [
      "              precision    recall  f1-score   support\n",
      "\n",
      "     class 0       0.47      0.90      0.62        20\n",
      "     class 1       0.89      0.44      0.59        36\n",
      "\n",
      "    accuracy                           0.61        56\n",
      "   macro avg       0.68      0.67      0.61        56\n",
      "weighted avg       0.74      0.61      0.60        56\n",
      "\n"
     ]
    }
   ],
   "source": [
    "from sklearn.metrics import confusion_matrix\n",
    "import seaborn as sns\n",
    "import matplotlib.pyplot as plt\n",
    "from sklearn.metrics import classification_report\n",
    "\n",
    "print(predict(R_1))\n",
    "df_cm = pd.DataFrame(confusion_matrix(y_test, predict(R_1)), range(len(classes)), range(len(classes)))\n",
    "plt.figure(figsize = (6, 4))\n",
    "sns.set(font_scale=1.5) # for label size\n",
    "sns.heatmap(df_cm, annot=True, fmt='d', cmap=sns.color_palette(\"ch:s=-.2,r=.6\", as_cmap=True))\n",
    "plt.title('Confusion matrix (Percentage)', fontsize = 15)\n",
    "plt.xlabel('Predicted', fontsize = 12)\n",
    "plt.ylabel('Actual/True', fontsize = 12) \n",
    "plt.tight_layout()\n",
    "plt.show()\n",
    "\n",
    "target_names = [f'class {i}' for i in range(len(classes))]\n",
    "print(classification_report(y_test, predict(R_1), target_names=target_names))"
   ]
  },
  {
   "cell_type": "code",
   "execution_count": null,
   "metadata": {},
   "outputs": [],
   "source": []
  }
 ],
 "metadata": {
  "kernelspec": {
   "display_name": "Python 3.9.12 ('base')",
   "language": "python",
   "name": "python3"
  },
  "language_info": {
   "codemirror_mode": {
    "name": "ipython",
    "version": 3
   },
   "file_extension": ".py",
   "mimetype": "text/x-python",
   "name": "python",
   "nbconvert_exporter": "python",
   "pygments_lexer": "ipython3",
   "version": "3.9.12"
  },
  "orig_nbformat": 4,
  "vscode": {
   "interpreter": {
    "hash": "ffc2c986650f75bb84df5ef0f5794d173c138677d61245fd2c4ff2debf2f2371"
   }
  }
 },
 "nbformat": 4,
 "nbformat_minor": 2
}
